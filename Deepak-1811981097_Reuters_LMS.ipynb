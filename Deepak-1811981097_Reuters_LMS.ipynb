{
 "cells": [
  {
   "cell_type": "code",
   "execution_count": 1,
   "metadata": {},
   "outputs": [],
   "source": [
    "import nltk\n",
    "from nltk.corpus import reuters"
   ]
  },
  {
   "cell_type": "code",
   "execution_count": 5,
   "metadata": {},
   "outputs": [
    {
     "data": {
      "text/plain": [
       "['test/14832',\n",
       " 'test/14841',\n",
       " 'test/14858',\n",
       " 'test/15043',\n",
       " 'test/15097',\n",
       " 'test/15132',\n",
       " 'test/15206',\n",
       " 'test/15271',\n",
       " 'test/15273',\n",
       " 'test/15341',\n",
       " 'test/15367',\n",
       " 'test/15388',\n",
       " 'test/15472',\n",
       " 'test/15500',\n",
       " 'test/15567',\n",
       " 'test/15572',\n",
       " 'test/15582',\n",
       " 'test/15618',\n",
       " 'test/15676',\n",
       " 'test/15686',\n",
       " 'test/15728',\n",
       " 'test/15836',\n",
       " 'test/15845',\n",
       " 'test/15853',\n",
       " 'test/15860',\n",
       " 'test/15863',\n",
       " 'test/15864',\n",
       " 'test/15866',\n",
       " 'test/15868',\n",
       " 'test/15869',\n",
       " 'test/15870',\n",
       " 'test/15871',\n",
       " 'test/15874',\n",
       " 'test/15875',\n",
       " 'test/15890',\n",
       " 'test/15893',\n",
       " 'test/15895',\n",
       " 'test/15906',\n",
       " 'test/15911',\n",
       " 'test/15916',\n",
       " 'test/15917',\n",
       " 'test/15927',\n",
       " 'test/15928',\n",
       " 'test/15952',\n",
       " 'test/16071',\n",
       " 'test/16079',\n",
       " 'test/16099',\n",
       " 'test/16144',\n",
       " 'test/16147',\n",
       " 'test/16271',\n",
       " 'test/16525',\n",
       " 'test/16601',\n",
       " 'test/16784',\n",
       " 'test/17503',\n",
       " 'test/17521',\n",
       " 'test/17662',\n",
       " 'test/17722',\n",
       " 'test/17755',\n",
       " 'test/17955',\n",
       " 'test/17962',\n",
       " 'test/18275',\n",
       " 'test/18297',\n",
       " 'test/18345',\n",
       " 'test/18609',\n",
       " 'test/18642',\n",
       " 'test/18899',\n",
       " 'test/18908',\n",
       " 'test/19059',\n",
       " 'test/19165',\n",
       " 'test/19169',\n",
       " 'test/19213',\n",
       " 'test/19275',\n",
       " 'test/19322',\n",
       " 'test/19388',\n",
       " 'test/19549',\n",
       " 'test/19668',\n",
       " 'test/19821',\n",
       " 'test/19835',\n",
       " 'test/19947',\n",
       " 'test/20052',\n",
       " 'test/20231',\n",
       " 'test/20239',\n",
       " 'test/20258',\n",
       " 'test/20511',\n",
       " 'test/20550',\n",
       " 'test/20611',\n",
       " 'test/20645',\n",
       " 'test/20738',\n",
       " 'test/21091',\n",
       " 'test/21243',\n",
       " 'test/21570',\n",
       " 'training/10120',\n",
       " 'training/10172',\n",
       " 'training/10175',\n",
       " 'training/10268',\n",
       " 'training/10305',\n",
       " 'training/10406',\n",
       " 'training/10444',\n",
       " 'training/10494',\n",
       " 'training/10519',\n",
       " 'training/10569',\n",
       " 'training/1057',\n",
       " 'training/1067',\n",
       " 'training/1069',\n",
       " 'training/10830',\n",
       " 'training/10882',\n",
       " 'training/1094',\n",
       " 'training/10956',\n",
       " 'training/11012',\n",
       " 'training/11040',\n",
       " 'training/11085',\n",
       " 'training/11091',\n",
       " 'training/11119',\n",
       " 'training/11208',\n",
       " 'training/11216',\n",
       " 'training/11224',\n",
       " 'training/11316',\n",
       " 'training/11343',\n",
       " 'training/11380',\n",
       " 'training/11392',\n",
       " 'training/11399',\n",
       " 'training/11415',\n",
       " 'training/11427',\n",
       " 'training/11445',\n",
       " 'training/11536',\n",
       " 'training/11608',\n",
       " 'training/11610',\n",
       " 'training/11640',\n",
       " 'training/11645',\n",
       " 'training/11655',\n",
       " 'training/11671',\n",
       " 'training/11694',\n",
       " 'training/11815',\n",
       " 'training/11834',\n",
       " 'training/1185',\n",
       " 'training/11885',\n",
       " 'training/11886',\n",
       " 'training/12002',\n",
       " 'training/12009',\n",
       " 'training/12192',\n",
       " 'training/12254',\n",
       " 'training/12261',\n",
       " 'training/12269',\n",
       " 'training/12325',\n",
       " 'training/12372',\n",
       " 'training/12420',\n",
       " 'training/12428',\n",
       " 'training/12458',\n",
       " 'training/12500',\n",
       " 'training/12543',\n",
       " 'training/1257',\n",
       " 'training/12762',\n",
       " 'training/12802',\n",
       " 'training/12887',\n",
       " 'training/1295',\n",
       " 'training/12971',\n",
       " 'training/13094',\n",
       " 'training/13097',\n",
       " 'training/13123',\n",
       " 'training/13129',\n",
       " 'training/13179',\n",
       " 'training/13272',\n",
       " 'training/13294',\n",
       " 'training/13313',\n",
       " 'training/13729',\n",
       " 'training/13744',\n",
       " 'training/1377',\n",
       " 'training/1385',\n",
       " 'training/13852',\n",
       " 'training/13856',\n",
       " 'training/1388',\n",
       " 'training/1396',\n",
       " 'training/1405',\n",
       " 'training/14126',\n",
       " 'training/14491',\n",
       " 'training/14509',\n",
       " 'training/14515',\n",
       " 'training/14718',\n",
       " 'training/14721',\n",
       " 'training/14722',\n",
       " 'training/1570',\n",
       " 'training/1590',\n",
       " 'training/1640',\n",
       " 'training/1674',\n",
       " 'training/1777',\n",
       " 'training/1792',\n",
       " 'training/180',\n",
       " 'training/1882',\n",
       " 'training/19',\n",
       " 'training/1901',\n",
       " 'training/1907',\n",
       " 'training/1915',\n",
       " 'training/1970',\n",
       " 'training/2003',\n",
       " 'training/2008',\n",
       " 'training/2044',\n",
       " 'training/2074',\n",
       " 'training/2095',\n",
       " 'training/2169',\n",
       " 'training/2172',\n",
       " 'training/2191',\n",
       " 'training/2217',\n",
       " 'training/2223',\n",
       " 'training/228',\n",
       " 'training/235',\n",
       " 'training/2367',\n",
       " 'training/2382',\n",
       " 'training/241',\n",
       " 'training/2425',\n",
       " 'training/2508',\n",
       " 'training/2524',\n",
       " 'training/253',\n",
       " 'training/2535',\n",
       " 'training/254',\n",
       " 'training/2741',\n",
       " 'training/2747',\n",
       " 'training/2857',\n",
       " 'training/2864',\n",
       " 'training/3132',\n",
       " 'training/3138',\n",
       " 'training/3272',\n",
       " 'training/3282',\n",
       " 'training/3299',\n",
       " 'training/3314',\n",
       " 'training/3323',\n",
       " 'training/3330',\n",
       " 'training/3334',\n",
       " 'training/3335',\n",
       " 'training/3358',\n",
       " 'training/3401',\n",
       " 'training/3429',\n",
       " 'training/3445',\n",
       " 'training/3737',\n",
       " 'training/3897',\n",
       " 'training/3904',\n",
       " 'training/3913',\n",
       " 'training/395',\n",
       " 'training/4057',\n",
       " 'training/4077',\n",
       " 'training/4133',\n",
       " 'training/4203',\n",
       " 'training/425',\n",
       " 'training/4278',\n",
       " 'training/4296',\n",
       " 'training/4314',\n",
       " 'training/4356',\n",
       " 'training/4382',\n",
       " 'training/4473',\n",
       " 'training/4478',\n",
       " 'training/4490',\n",
       " 'training/4549',\n",
       " 'training/4599',\n",
       " 'training/4671',\n",
       " 'training/4678',\n",
       " 'training/4696',\n",
       " 'training/4719',\n",
       " 'training/5',\n",
       " 'training/501',\n",
       " 'training/5056',\n",
       " 'training/5266',\n",
       " 'training/5383',\n",
       " 'training/5467',\n",
       " 'training/5531',\n",
       " 'training/5606',\n",
       " 'training/5610',\n",
       " 'training/5636',\n",
       " 'training/5639',\n",
       " 'training/5648',\n",
       " 'training/6',\n",
       " 'training/6006',\n",
       " 'training/6079',\n",
       " 'training/6081',\n",
       " 'training/6114',\n",
       " 'training/6127',\n",
       " 'training/6153',\n",
       " 'training/6209',\n",
       " 'training/6221',\n",
       " 'training/6239',\n",
       " 'training/6259',\n",
       " 'training/6269',\n",
       " 'training/6296',\n",
       " 'training/6326',\n",
       " 'training/6339',\n",
       " 'training/6720',\n",
       " 'training/6744',\n",
       " 'training/6751',\n",
       " 'training/6882',\n",
       " 'training/6898',\n",
       " 'training/6903',\n",
       " 'training/6909',\n",
       " 'training/694',\n",
       " 'training/6946',\n",
       " 'training/6960',\n",
       " 'training/7062',\n",
       " 'training/7160',\n",
       " 'training/7205',\n",
       " 'training/7215',\n",
       " 'training/7326',\n",
       " 'training/742',\n",
       " 'training/7471',\n",
       " 'training/7545',\n",
       " 'training/7917',\n",
       " 'training/7934',\n",
       " 'training/7957',\n",
       " 'training/8003',\n",
       " 'training/8161',\n",
       " 'training/8179',\n",
       " 'training/8273',\n",
       " 'training/8413',\n",
       " 'training/8535',\n",
       " 'training/856',\n",
       " 'training/8604',\n",
       " 'training/874',\n",
       " 'training/8759',\n",
       " 'training/8993',\n",
       " 'training/9018',\n",
       " 'training/9021',\n",
       " 'training/9095',\n",
       " 'training/97',\n",
       " 'training/9705',\n",
       " 'training/9773',\n",
       " 'training/9782',\n",
       " 'training/9793',\n",
       " 'training/9865']"
      ]
     },
     "execution_count": 5,
     "metadata": {},
     "output_type": "execute_result"
    }
   ],
   "source": [
    "reuters.fileids(['wheat','rice'])"
   ]
  },
  {
   "cell_type": "code",
   "execution_count": 4,
   "metadata": {},
   "outputs": [
    {
     "name": "stdout",
     "output_type": "stream",
     "text": [
      "['ASIAN', 'EXPORTERS', 'FEAR', 'DAMAGE', 'FROM', 'U', ...]\n",
      "Lenght of the corpus  1720901\n"
     ]
    }
   ],
   "source": [
    "print(reuters.words())\n",
    "length= len(reuters.words())\n",
    "print(\"Lenght of the corpus \", length)"
   ]
  },
  {
   "cell_type": "code",
   "execution_count": 6,
   "metadata": {},
   "outputs": [
    {
     "data": {
      "text/plain": [
       "[['ASIAN', 'EXPORTERS', 'FEAR', 'DAMAGE', 'FROM', 'U', '.', 'S', '.-', 'JAPAN', 'RIFT', 'Mounting', 'trade', 'friction', 'between', 'the', 'U', '.', 'S', '.', 'And', 'Japan', 'has', 'raised', 'fears', 'among', 'many', 'of', 'Asia', \"'\", 's', 'exporting', 'nations', 'that', 'the', 'row', 'could', 'inflict', 'far', '-', 'reaching', 'economic', 'damage', ',', 'businessmen', 'and', 'officials', 'said', '.'], ['They', 'told', 'Reuter', 'correspondents', 'in', 'Asian', 'capitals', 'a', 'U', '.', 'S', '.', 'Move', 'against', 'Japan', 'might', 'boost', 'protectionist', 'sentiment', 'in', 'the', 'U', '.', 'S', '.', 'And', 'lead', 'to', 'curbs', 'on', 'American', 'imports', 'of', 'their', 'products', '.'], ...]"
      ]
     },
     "execution_count": 6,
     "metadata": {},
     "output_type": "execute_result"
    }
   ],
   "source": [
    "reuters.sents()"
   ]
  },
  {
   "cell_type": "code",
   "execution_count": 7,
   "metadata": {},
   "outputs": [
    {
     "data": {
      "text/plain": [
       "[['RPT', '-', 'ARGENTINE', 'GRAIN', '/', 'OILSEED', 'EXPORT', 'PRICES', 'ADJUSTED', 'The', 'Argentine', 'Grain', 'Board', 'adjusted', 'minimum', 'export', 'prices', 'of', 'grain', 'and', 'oilseed', 'products', 'in', 'dlrs', 'per', 'tonne', 'FOB', ',', 'previous', 'in', 'brackets', ',', 'as', 'follows', ':', 'Sorghum', '64', '(', '63', '),', 'sunflowerseed', 'cake', 'and', 'expellers', '103', '(', '102', ')', ',', 'pellets', '101', '(', '100', '),', 'meal', '99', '(', '98', '),', 'linseed', 'oil', '274', '(', '264', '),', 'groundnutseed', 'oil', '450', '(', '445', '),', 'soybean', 'oil', '300', '(', '290', '),', 'rapeseed', 'oil', '290', '(', '280', ').'], ['Sunflowerseed', 'oil', 'for', 'shipment', 'through', 'May', '323', '(', '313', ')', 'and', 'june', 'onwards', '330', '(', '320', ').'], ...]"
      ]
     },
     "execution_count": 7,
     "metadata": {},
     "output_type": "execute_result"
    }
   ],
   "source": [
    "reuters.sents(fileids='test/15500')"
   ]
  },
  {
   "cell_type": "code",
   "execution_count": 8,
   "metadata": {},
   "outputs": [
    {
     "data": {
      "text/plain": [
       "10788"
      ]
     },
     "execution_count": 8,
     "metadata": {},
     "output_type": "execute_result"
    }
   ],
   "source": [
    "len(reuters.fileids())"
   ]
  },
  {
   "cell_type": "code",
   "execution_count": 9,
   "metadata": {},
   "outputs": [
    {
     "name": "stdout",
     "output_type": "stream",
     "text": [
      "RPT - ARGENTINE GRAIN/OILSEED EXPORT PRICES ADJUSTED\n",
      "  The Argentine Grain Board adjusted\n",
      "  minimum export prices of grain and oilseed products in dlrs per\n",
      "  tonne FOB, previous in brackets, as follows:\n",
      "      Sorghum 64 (63), sunflowerseed cake and expellers 103 (102)\n",
      "  , pellets 101 (100), meal 99 (98), linseed oil 274 (264),\n",
      "  groundnutseed oil 450 (445), soybean oil 300 (290), rapeseed\n",
      "  oil 290 (280).\n",
      "      Sunflowerseed oil for shipment through May 323 (313) and\n",
      "  june onwards 330 (320).\n",
      "      The board also adjusted export prices at which export taxes\n",
      "  are levied in dlrs per tonne FOB, previous in brackets, as\n",
      "  follows:\n",
      "      Bran pollard wheat 40 (42), pellets 42 (44).\n"
     ]
    }
   ],
   "source": [
    "rawtext= reuters.raw('test/15500').strip()[:1000]\n",
    "print(rawtext)"
   ]
  },
  {
   "cell_type": "code",
   "execution_count": 10,
   "metadata": {},
   "outputs": [
    {
     "data": {
      "text/plain": [
       "['RPT - ARGENTINE GRAIN/OILSEED EXPORT PRICES ADJUSTED\\n  The Argentine Grain Board adjusted\\n  minimum export prices of grain and oilseed products in dlrs per\\n  tonne FOB, previous in brackets, as follows:\\n      Sorghum 64 (63), sunflowerseed cake and expellers 103 (102)\\n  , pellets 101 (100), meal 99 (98), linseed oil 274 (264),\\n  groundnutseed oil 450 (445), soybean oil 300 (290), rapeseed\\n  oil 290 (280).',\n",
       " 'Sunflowerseed oil for shipment through May 323 (313) and\\n  june onwards 330 (320).',\n",
       " 'The board also adjusted export prices at which export taxes\\n  are levied in dlrs per tonne FOB, previous in brackets, as\\n  follows:\\n      Bran pollard wheat 40 (42), pellets 42 (44).']"
      ]
     },
     "execution_count": 10,
     "metadata": {},
     "output_type": "execute_result"
    }
   ],
   "source": [
    "from nltk import sent_tokenize, word_tokenize\n",
    "sent_tokenize(rawtext)"
   ]
  },
  {
   "cell_type": "code",
   "execution_count": 11,
   "metadata": {},
   "outputs": [
    {
     "name": "stdout",
     "output_type": "stream",
     "text": [
      "['RPT', '-', 'ARGENTINE', 'GRAIN/OILSEED', 'EXPORT', 'PRICES', 'ADJUSTED', 'The', 'Argentine', 'Grain', 'Board', 'adjusted', 'minimum', 'export', 'prices', 'of', 'grain', 'and', 'oilseed', 'products', 'in', 'dlrs', 'per', 'tonne', 'FOB', ',', 'previous', 'in', 'brackets', ',', 'as', 'follows', ':', 'Sorghum', '64', '(', '63', ')', ',', 'sunflowerseed', 'cake', 'and', 'expellers', '103', '(', '102', ')', ',', 'pellets', '101', '(', '100', ')', ',', 'meal', '99', '(', '98', ')', ',', 'linseed', 'oil', '274', '(', '264', ')', ',', 'groundnutseed', 'oil', '450', '(', '445', ')', ',', 'soybean', 'oil', '300', '(', '290', ')', ',', 'rapeseed', 'oil', '290', '(', '280', ')', '.']\n",
      "['Sunflowerseed', 'oil', 'for', 'shipment', 'through', 'May', '323', '(', '313', ')', 'and', 'june', 'onwards', '330', '(', '320', ')', '.']\n",
      "['The', 'board', 'also', 'adjusted', 'export', 'prices', 'at', 'which', 'export', 'taxes', 'are', 'levied', 'in', 'dlrs', 'per', 'tonne', 'FOB', ',', 'previous', 'in', 'brackets', ',', 'as', 'follows', ':', 'Bran', 'pollard', 'wheat', '40', '(', '42', ')', ',', 'pellets', '42', '(', '44', ')', '.']\n"
     ]
    }
   ],
   "source": [
    "for sent in sent_tokenize(rawtext):\n",
    "    print(word_tokenize(sent))"
   ]
  },
  {
   "cell_type": "code",
   "execution_count": 12,
   "metadata": {},
   "outputs": [
    {
     "name": "stdout",
     "output_type": "stream",
     "text": [
      "['rpt', '-', 'argentine', 'grain/oilseed', 'export', 'prices', 'adjusted', 'the', 'argentine', 'grain', 'board', 'adjusted', 'minimum', 'export', 'prices', 'of', 'grain', 'and', 'oilseed', 'products', 'in', 'dlrs', 'per', 'tonne', 'fob', ',', 'previous', 'in', 'brackets', ',', 'as', 'follows', ':', 'sorghum', '64', '(', '63', ')', ',', 'sunflowerseed', 'cake', 'and', 'expellers', '103', '(', '102', ')', ',', 'pellets', '101', '(', '100', ')', ',', 'meal', '99', '(', '98', ')', ',', 'linseed', 'oil', '274', '(', '264', ')', ',', 'groundnutseed', 'oil', '450', '(', '445', ')', ',', 'soybean', 'oil', '300', '(', '290', ')', ',', 'rapeseed', 'oil', '290', '(', '280', ')', '.']\n",
      "['sunflowerseed', 'oil', 'for', 'shipment', 'through', 'may', '323', '(', '313', ')', 'and', 'june', 'onwards', '330', '(', '320', ')', '.']\n",
      "['the', 'board', 'also', 'adjusted', 'export', 'prices', 'at', 'which', 'export', 'taxes', 'are', 'levied', 'in', 'dlrs', 'per', 'tonne', 'fob', ',', 'previous', 'in', 'brackets', ',', 'as', 'follows', ':', 'bran', 'pollard', 'wheat', '40', '(', '42', ')', ',', 'pellets', '42', '(', '44', ')', '.']\n"
     ]
    }
   ],
   "source": [
    "for sent in sent_tokenize(rawtext):\n",
    "    # It's a little in efficient to loop through each word,\n",
    "    # after but sometimes it helps to get better tokens.\n",
    "    print([word.lower() for word in word_tokenize(sent)])"
   ]
  },
  {
   "cell_type": "code",
   "execution_count": 13,
   "metadata": {},
   "outputs": [
    {
     "name": "stdout",
     "output_type": "stream",
     "text": [
      "['i', 'me', 'my', 'myself', 'we', 'our', 'ours', 'ourselves', 'you', \"you're\", \"you've\", \"you'll\", \"you'd\", 'your', 'yours', 'yourself', 'yourselves', 'he', 'him', 'his', 'himself', 'she', \"she's\", 'her', 'hers', 'herself', 'it', \"it's\", 'its', 'itself', 'they', 'them', 'their', 'theirs', 'themselves', 'what', 'which', 'who', 'whom', 'this', 'that', \"that'll\", 'these', 'those', 'am', 'is', 'are', 'was', 'were', 'be', 'been', 'being', 'have', 'has', 'had', 'having', 'do', 'does', 'did', 'doing', 'a', 'an', 'the', 'and', 'but', 'if', 'or', 'because', 'as', 'until', 'while', 'of', 'at', 'by', 'for', 'with', 'about', 'against', 'between', 'into', 'through', 'during', 'before', 'after', 'above', 'below', 'to', 'from', 'up', 'down', 'in', 'out', 'on', 'off', 'over', 'under', 'again', 'further', 'then', 'once', 'here', 'there', 'when', 'where', 'why', 'how', 'all', 'any', 'both', 'each', 'few', 'more', 'most', 'other', 'some', 'such', 'no', 'nor', 'not', 'only', 'own', 'same', 'so', 'than', 'too', 'very', 's', 't', 'can', 'will', 'just', 'don', \"don't\", 'should', \"should've\", 'now', 'd', 'll', 'm', 'o', 're', 've', 'y', 'ain', 'aren', \"aren't\", 'couldn', \"couldn't\", 'didn', \"didn't\", 'doesn', \"doesn't\", 'hadn', \"hadn't\", 'hasn', \"hasn't\", 'haven', \"haven't\", 'isn', \"isn't\", 'ma', 'mightn', \"mightn't\", 'mustn', \"mustn't\", 'needn', \"needn't\", 'shan', \"shan't\", 'shouldn', \"shouldn't\", 'wasn', \"wasn't\", 'weren', \"weren't\", 'won', \"won't\", 'wouldn', \"wouldn't\"]\n"
     ]
    }
   ],
   "source": [
    "from nltk.corpus import stopwords\n",
    "\n",
    "stopwords_en = stopwords.words('english')\n",
    "print(stopwords_en)"
   ]
  },
  {
   "cell_type": "code",
   "execution_count": 14,
   "metadata": {},
   "outputs": [
    {
     "name": "stdout",
     "output_type": "stream",
     "text": [
      "['rpt', '-', 'argentine', 'grain/oilseed', 'export', 'prices', 'adjusted', 'argentine', 'grain', 'board', 'adjusted', 'minimum', 'export', 'prices', 'grain', 'oilseed', 'products', 'dlrs', 'per', 'tonne', 'fob', ',', 'previous', 'brackets', ',', 'follows', ':', 'sorghum', '64', '(', '63', ')', ',', 'sunflowerseed', 'cake', 'expellers', '103', '(', '102', ')', ',', 'pellets', '101', '(', '100', ')', ',', 'meal', '99', '(', '98', ')', ',', 'linseed', 'oil', '274', '(', '264', ')', ',', 'groundnutseed', 'oil', '450', '(', '445', ')', ',', 'soybean', 'oil', '300', '(', '290', ')', ',', 'rapeseed', 'oil', '290', '(', '280', ')', '.', 'sunflowerseed', 'oil', 'shipment', 'may', '323', '(', '313', ')', 'june', 'onwards', '330', '(', '320', ')', '.', 'board', 'also', 'adjusted', 'export', 'prices', 'export', 'taxes', 'levied', 'dlrs', 'per', 'tonne', 'fob', ',', 'previous', 'brackets', ',', 'follows', ':', 'bran', 'pollard', 'wheat', '40', '(', '42', ')', ',', 'pellets', '42', '(', '44', ')', '.']\n"
     ]
    }
   ],
   "source": [
    "# Tokenize and lowercase\n",
    "tokenized_lowercase = list(map(str.lower, word_tokenize(rawtext)))\n",
    "\n",
    "stopwords_english = set(stopwords.words('english')) # Set checking is faster in Python than list.\n",
    "\n",
    "# List comprehension.\n",
    "print([word for word in tokenized_lowercase if word not in stopwords_en])"
   ]
  },
  {
   "cell_type": "code",
   "execution_count": 15,
   "metadata": {},
   "outputs": [
    {
     "name": "stdout",
     "output_type": "stream",
     "text": [
      "From string.punctuation: <class 'str'> !\"#$%&'()*+,-./:;<=>?@[\\]^_`{|}~\n",
      "{'%', \"you've\", 'can', 'at', 'nor', 'each', 'yourself', 'here', 'during', 'herself', 'had', \"won't\", 'and', '>', 'myself', 'because', ',', 'whom', 'before', \"that'll\", 'don', 'won', 'a', \"wouldn't\", 'below', 'any', 'now', 'but', \"wasn't\", 'they', 'then', '_', 'where', '@', 'against', 'its', 'than', 'them', 's', 'mightn', 'll', 'no', '|', 'those', 'yours', 'such', '+', '`', \"you're\", 'y', \"you'll\", 'of', 'just', 't', 'too', 'out', '/', 'hers', 'up', 'through', \"hadn't\", '<', 'with', 'own', 'ain', 'have', 'i', 'needn', 'hasn', \"you'd\", 'm', 'if', 'how', 'further', 'between', \"should've\", 'some', '\\\\', 'their', 'aren', \"aren't\", '\"', 'an', 'over', 'the', 'she', 'me', \"needn't\", 'it', 'so', ';', 'does', 'by', 'has', 'which', 'd', \"she's\", ')', '*', 'were', 'once', 'her', 'into', 'being', \"shouldn't\", ':', 'will', 'there', 'off', \"don't\", \"haven't\", 'isn', 'couldn', 'why', '.', 'shan', 'hadn', 'all', 'doing', 'more', 'theirs', 'other', 'about', 're', 'to', 'shouldn', 'doesn', 'when', 'he', 'on', 've', 'above', \"weren't\", 'wasn', 'did', \"couldn't\", 'these', '(', 'themselves', 'from', \"it's\", 'should', 'my', \"mustn't\", 'do', 'ourselves', 'both', 'am', \"'\", 'not', '{', 'only', 'be', '}', \"hasn't\", ']', '&', 'or', 'after', '$', 'weren', '[', 'was', 'is', 'wouldn', 'as', '!', 'been', 'having', 'didn', 'again', 'few', '?', 'him', 'what', 'for', 'himself', 'most', 'ours', 'you', 'who', 'haven', \"shan't\", 'his', 'in', \"doesn't\", 'are', 'that', '^', 'very', \"mightn't\", 'o', \"isn't\", '=', '-', 'same', 'yourselves', 'while', 'we', '~', '#', 'your', 'under', \"didn't\", 'ma', 'this', 'mustn', 'our', 'down', 'itself', 'until'}\n"
     ]
    }
   ],
   "source": [
    "from string import punctuation\n",
    "\n",
    "# It's a string so we have to them into a set type\n",
    "print('From string.punctuation:', type(punctuation), punctuation)\n",
    "\n",
    "punct_stopwords = stopwords_english.union(set(punctuation))\n",
    "print(punct_stopwords)"
   ]
  },
  {
   "cell_type": "code",
   "execution_count": 16,
   "metadata": {},
   "outputs": [
    {
     "name": "stdout",
     "output_type": "stream",
     "text": [
      "['rpt', 'argentine', 'grain/oilseed', 'export', 'prices', 'adjusted', 'argentine', 'grain', 'board', 'adjusted', 'minimum', 'export', 'prices', 'grain', 'oilseed', 'products', 'dlrs', 'per', 'tonne', 'fob', 'previous', 'brackets', 'follows', 'sorghum', '64', '63', 'sunflowerseed', 'cake', 'expellers', '103', '102', 'pellets', '101', '100', 'meal', '99', '98', 'linseed', 'oil', '274', '264', 'groundnutseed', 'oil', '450', '445', 'soybean', 'oil', '300', '290', 'rapeseed', 'oil', '290', '280', 'sunflowerseed', 'oil', 'shipment', 'may', '323', '313', 'june', 'onwards', '330', '320', 'board', 'also', 'adjusted', 'export', 'prices', 'export', 'taxes', 'levied', 'dlrs', 'per', 'tonne', 'fob', 'previous', 'brackets', 'follows', 'bran', 'pollard', 'wheat', '40', '42', 'pellets', '42', '44']\n"
     ]
    }
   ],
   "source": [
    "punch_stop_word= [word for word in tokenized_lowercase if word not in punct_stopwords]\n",
    "\n",
    "print(punch_stop_word)"
   ]
  },
  {
   "cell_type": "code",
   "execution_count": 17,
   "metadata": {},
   "outputs": [
    {
     "name": "stdout",
     "output_type": "stream",
     "text": [
      "talk\n",
      "talk\n",
      "talk\n"
     ]
    }
   ],
   "source": [
    "from nltk.stem import PorterStemmer\n",
    "\n",
    "porter = PorterStemmer()\n",
    "\n",
    "for word in ['Talking', 'Talks', 'Talked']:\n",
    "    print(porter.stem(word))"
   ]
  },
  {
   "cell_type": "code",
   "execution_count": 18,
   "metadata": {},
   "outputs": [
    {
     "name": "stderr",
     "output_type": "stream",
     "text": [
      "[nltk_data] Downloading package wordnet to\n",
      "[nltk_data]     C:\\Users\\Deepak\\AppData\\Roaming\\nltk_data...\n",
      "[nltk_data]   Package wordnet is already up-to-date!\n"
     ]
    },
    {
     "name": "stdout",
     "output_type": "stream",
     "text": [
      "Talking\n",
      "Talks\n",
      "Talked\n"
     ]
    }
   ],
   "source": [
    "import nltk\n",
    "nltk.download('wordnet')\n",
    "\n",
    "from nltk.stem import WordNetLemmatizer\n",
    "\n",
    "wnl = WordNetLemmatizer()\n",
    "\n",
    "for word in ['Talking', 'Talks', 'Talked']:\n",
    "    print(wnl.lemmatize(word))"
   ]
  },
  {
   "cell_type": "code",
   "execution_count": 22,
   "metadata": {},
   "outputs": [
    {
     "name": "stdout",
     "output_type": "stream",
     "text": [
      "[('Prisha', 'NNP'), ('is', 'VBZ'), ('learning', 'VBG'), ('maths', 'NNS'), ('online', 'NN')]\n"
     ]
    }
   ],
   "source": [
    "from nltk import pos_tag\n",
    "\n",
    "\n",
    "wnl = WordNetLemmatizer()\n",
    "\n",
    "def penn2morphy(penntag):\n",
    "    \"\"\" Converts Penn Treebank tags to WordNet. \"\"\"\n",
    "    morphy_tag = {'NN':'n', 'JJ':'a',\n",
    "                  'VB':'v', 'RB':'r'}\n",
    "    try:\n",
    "        return morphy_tag[penntag[:2]]\n",
    "    except:\n",
    "        return 'n' # if mapping isn't found, fall back to Noun.\n",
    "    \n",
    "pos_tagged_sent = pos_tag(word_tokenize('Prisha is learning maths online'))\n",
    "print(pos_tagged_sent)"
   ]
  },
  {
   "cell_type": "code",
   "execution_count": 23,
   "metadata": {},
   "outputs": [
    {
     "data": {
      "text/plain": [
       "['prisha', 'be', 'learn', 'math', 'online']"
      ]
     },
     "execution_count": 23,
     "metadata": {},
     "output_type": "execute_result"
    }
   ],
   "source": [
    "def lemmatize_sent(text): \n",
    "    # Text input is string, returns lowercased strings.\n",
    "    return[wnl.lemmatize(word.lower(), pos=penn2morphy(tag)) \n",
    "            for word, tag in pos_tag(word_tokenize(text))]\n",
    "\n",
    "lemmatize_sent('Prisha is learning maths online')"
   ]
  },
  {
   "cell_type": "code",
   "execution_count": 24,
   "metadata": {},
   "outputs": [
    {
     "name": "stdout",
     "output_type": "stream",
     "text": [
      "Raw Text Before Lemmatization \n",
      "RPT - ARGENTINE GRAIN/OILSEED EXPORT PRICES ADJUSTED\n",
      "  The Argentine Grain Board adjusted\n",
      "  minimum export prices of grain and oilseed products in dlrs per\n",
      "  tonne FOB, previous in brackets, as follows:\n",
      "      Sorghum 64 (63), sunflowerseed cake and expellers 103 (102)\n",
      "  , pellets 101 (100), meal 99 (98), linseed oil 274 (264),\n",
      "  groundnutseed oil 450 (445), soybean oil 300 (290), rapeseed\n",
      "  oil 290 (280).\n",
      "      Sunflowerseed oil for shipment through May 323 (313) and\n",
      "  june onwards 330 (320).\n",
      "      The board also adjusted export prices at which export taxes\n",
      "  are levied in dlrs per tonne FOB, previous in brackets, as\n",
      "  follows:\n",
      "      Bran pollard wheat 40 (42), pellets 42 (44). \n",
      "\n",
      "Raw Text After Stop word Removal & Lemmaztization \n",
      "\n",
      "['rpt', '-', 'argentine', 'grain/oilseed', 'export', 'price', 'adjusted', 'argentine', 'grain', 'board', 'adjust', 'minimum', 'export', 'price', 'grain', 'oilseed', 'product', 'dlrs', 'per', 'tonne', 'fob', ',', 'previous', 'bracket', ',', 'follow', ':', 'sorghum', '(', ')', ',', 'sunflowerseed', 'cake', 'expellers', '(', ')', ',', 'pellets', '(', ')', ',', 'meal', '(', ')', ',', 'linseed', 'oil', '(', ')', ',', 'groundnutseed', 'oil', '(', ')', ',', 'soybean', 'oil', '(', ')', ',', 'rapeseed', 'oil', '(', ')', '.', 'sunflowerseed', 'oil', 'shipment', 'may', '(', ')', 'june', 'onwards', '(', ')', '.', 'board', 'also', 'adjust', 'export', 'price', 'export', 'tax', 'levy', 'dlrs', 'per', 'tonne', 'fob', ',', 'previous', 'bracket', ',', 'follow', ':', 'bran', 'pollard', 'wheat', '(', ')', ',', 'pellets', '(', ')', '.']\n"
     ]
    }
   ],
   "source": [
    "print('Raw Text Before Lemmatization ')\n",
    "print(rawtext, '\\n')\n",
    "print('Raw Text After Stop word Removal & Lemmaztization \\n')\n",
    "print([word for word in lemmatize_sent(rawtext) \n",
    "       if word not in stopwords_english\n",
    "       and not word.isdigit() ])"
   ]
  },
  {
   "cell_type": "code",
   "execution_count": null,
   "metadata": {},
   "outputs": [],
   "source": []
  }
 ],
 "metadata": {
  "kernelspec": {
   "display_name": "Python 3",
   "language": "python",
   "name": "python3"
  },
  "language_info": {
   "codemirror_mode": {
    "name": "ipython",
    "version": 3
   },
   "file_extension": ".py",
   "mimetype": "text/x-python",
   "name": "python",
   "nbconvert_exporter": "python",
   "pygments_lexer": "ipython3",
   "version": "3.8.3"
  }
 },
 "nbformat": 4,
 "nbformat_minor": 4
}
